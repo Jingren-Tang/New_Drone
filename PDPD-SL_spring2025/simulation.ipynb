{
 "cells": [
  {
   "cell_type": "code",
   "execution_count": 1,
   "metadata": {},
   "outputs": [],
   "source": [
    "from optimization_functions import *\n",
    "\n",
    "# optimization parameters set in preprocess_functions.py\n",
    "\n",
    "import pandas as pd\n",
    "\n",
    "from matplotlib import rcParams\n",
    "rcParams['font.family'] = 'Helvetica'\n",
    "\n",
    "import pickle\n",
    "import csv"
   ]
  },
  {
   "cell_type": "code",
   "execution_count": 2,
   "metadata": {},
   "outputs": [],
   "source": [
    "# Parcel pickup (N^p) and delivery (N^d)\n",
    "# [Parcel ID | time (minutes) | pickup_x (km) | pickup_y | delivery_x | delivery_y | immediate: False=0, True=1]\n",
    "\n",
    "# Option 1: toy network for testing\n",
    "# task_array = np.array([[0, 1, 1, 3.7, 3, 2.5,  0], \n",
    "#                        [1, 3, 1, 1, 5, 3.7, 0], \n",
    "#                        [2, 10, 2, 1, 5.2, 3.5, 0],\n",
    "#                        [3, 14, 4.2, 1, 3.2, 0.5, 0],\n",
    "#                        [4, 20, 5, 3, 5.5, 3.5, 0]])\n",
    "\n",
    "# task_array = np.array([[0, 1, 1, 3.7, 3, 2.5,  0], \n",
    "#                        [1, 3, 1, 1, 5, 3.7, 0]])\n",
    "\n",
    "# Option 2: a larger network\n",
    "num_tasks = 49\n",
    "with open('DATA_PDPD-SL/' + str(num_tasks) + 'tasks', 'rb') as f:\n",
    "    task_array = pickle.load(f)\n",
    "\n",
    "# take a subset of tasks to test\n",
    "task_array = task_array[:10]\n",
    "\n"
   ]
  },
  {
   "cell_type": "code",
   "execution_count": 3,
   "metadata": {},
   "outputs": [],
   "source": [
    "task_df = pd.DataFrame(columns=['ID', 'time', 'pickup_x', 'pickup_y', 'delivery_x', 'delivery_y', 'immediate'],\n",
    "                       data=task_array)\n",
    "num_tasks = len(task_df)"
   ]
  },
  {
   "cell_type": "code",
   "execution_count": 4,
   "metadata": {},
   "outputs": [],
   "source": [
    "# # Option 2: a larger network\n",
    "with open('DATA_PDPD-SL/1busline', 'rb') as f:\n",
    "    stop_array = pickle.load(f)\n",
    "\n",
    "# take a subset of bus stops to test\n",
    "# stop_array = stop_array[:2]\n",
    "\n",
    "stop_df = pd.DataFrame(columns=['ID', 'line', 'stop_x', 'stop_y'],\n",
    "                       data=stop_array)\n",
    "\n",
    "num_stops = len(stop_df)"
   ]
  },
  {
   "cell_type": "code",
   "execution_count": 5,
   "metadata": {},
   "outputs": [
    {
     "data": {
      "text/html": [
       "<div>\n",
       "<style scoped>\n",
       "    .dataframe tbody tr th:only-of-type {\n",
       "        vertical-align: middle;\n",
       "    }\n",
       "\n",
       "    .dataframe tbody tr th {\n",
       "        vertical-align: top;\n",
       "    }\n",
       "\n",
       "    .dataframe thead th {\n",
       "        text-align: right;\n",
       "    }\n",
       "</style>\n",
       "<table border=\"1\" class=\"dataframe\">\n",
       "  <thead>\n",
       "    <tr style=\"text-align: right;\">\n",
       "      <th></th>\n",
       "      <th>ID</th>\n",
       "      <th>line</th>\n",
       "      <th>stop_x</th>\n",
       "      <th>stop_y</th>\n",
       "    </tr>\n",
       "  </thead>\n",
       "  <tbody>\n",
       "    <tr>\n",
       "      <th>0</th>\n",
       "      <td>0.0</td>\n",
       "      <td>0.0</td>\n",
       "      <td>3.0</td>\n",
       "      <td>2.0</td>\n",
       "    </tr>\n",
       "    <tr>\n",
       "      <th>1</th>\n",
       "      <td>1.0</td>\n",
       "      <td>0.0</td>\n",
       "      <td>3.0</td>\n",
       "      <td>3.0</td>\n",
       "    </tr>\n",
       "    <tr>\n",
       "      <th>2</th>\n",
       "      <td>2.0</td>\n",
       "      <td>0.0</td>\n",
       "      <td>3.0</td>\n",
       "      <td>4.0</td>\n",
       "    </tr>\n",
       "    <tr>\n",
       "      <th>3</th>\n",
       "      <td>3.0</td>\n",
       "      <td>0.0</td>\n",
       "      <td>3.0</td>\n",
       "      <td>5.0</td>\n",
       "    </tr>\n",
       "    <tr>\n",
       "      <th>4</th>\n",
       "      <td>4.0</td>\n",
       "      <td>0.0</td>\n",
       "      <td>3.0</td>\n",
       "      <td>6.0</td>\n",
       "    </tr>\n",
       "    <tr>\n",
       "      <th>5</th>\n",
       "      <td>5.0</td>\n",
       "      <td>0.0</td>\n",
       "      <td>3.0</td>\n",
       "      <td>7.0</td>\n",
       "    </tr>\n",
       "    <tr>\n",
       "      <th>6</th>\n",
       "      <td>6.0</td>\n",
       "      <td>0.0</td>\n",
       "      <td>3.0</td>\n",
       "      <td>7.0</td>\n",
       "    </tr>\n",
       "    <tr>\n",
       "      <th>7</th>\n",
       "      <td>7.0</td>\n",
       "      <td>0.0</td>\n",
       "      <td>4.0</td>\n",
       "      <td>7.0</td>\n",
       "    </tr>\n",
       "    <tr>\n",
       "      <th>8</th>\n",
       "      <td>8.0</td>\n",
       "      <td>0.0</td>\n",
       "      <td>5.0</td>\n",
       "      <td>7.0</td>\n",
       "    </tr>\n",
       "    <tr>\n",
       "      <th>9</th>\n",
       "      <td>9.0</td>\n",
       "      <td>0.0</td>\n",
       "      <td>6.0</td>\n",
       "      <td>7.0</td>\n",
       "    </tr>\n",
       "    <tr>\n",
       "      <th>10</th>\n",
       "      <td>10.0</td>\n",
       "      <td>0.0</td>\n",
       "      <td>7.0</td>\n",
       "      <td>7.0</td>\n",
       "    </tr>\n",
       "  </tbody>\n",
       "</table>\n",
       "</div>"
      ],
      "text/plain": [
       "      ID  line  stop_x  stop_y\n",
       "0    0.0   0.0     3.0     2.0\n",
       "1    1.0   0.0     3.0     3.0\n",
       "2    2.0   0.0     3.0     4.0\n",
       "3    3.0   0.0     3.0     5.0\n",
       "4    4.0   0.0     3.0     6.0\n",
       "5    5.0   0.0     3.0     7.0\n",
       "6    6.0   0.0     3.0     7.0\n",
       "7    7.0   0.0     4.0     7.0\n",
       "8    8.0   0.0     5.0     7.0\n",
       "9    9.0   0.0     6.0     7.0\n",
       "10  10.0   0.0     7.0     7.0"
      ]
     },
     "execution_count": 5,
     "metadata": {},
     "output_type": "execute_result"
    }
   ],
   "source": [
    "stop_df"
   ]
  },
  {
   "cell_type": "code",
   "execution_count": 6,
   "metadata": {},
   "outputs": [],
   "source": [
    "bus_travel_times = calc_bus_travel_times(num_stops, stop_df, v_bus)"
   ]
  },
  {
   "cell_type": "code",
   "execution_count": 7,
   "metadata": {},
   "outputs": [],
   "source": [
    "bus_trips = []\n",
    "num_bus_trips = 10 # create one bus trip at a time, alternating terminus departures\n",
    "terminus_depart_time = 0\n",
    "headway = 3 # minutes, taken as the duration of a complete trip in one direction\n",
    "\n",
    "for trip in range(num_bus_trips):\n",
    "    trip_dict = {'ID': trip}\n",
    "    direction = 0 if trip%2==0 else 1\n",
    "    \n",
    "    if direction==0:\n",
    "        start_time = terminus_depart_time\n",
    "        # iterate through stops from left to right\n",
    "        for start_stop in range(num_stops-1):\n",
    "            trip_dict[(start_stop, start_stop+1)] = start_time\n",
    "            # start_time at the next stop\n",
    "            start_time += bus_travel_times[(start_stop, start_stop+1)]\n",
    "\n",
    "    else: # direction==1\n",
    "        start_time = terminus_depart_time\n",
    "        # iterate through stops from right to left\n",
    "        for start_stop in range(num_stops-1, 0, -1):\n",
    "            trip_dict[(start_stop, start_stop-1)] = start_time\n",
    "\n",
    "            # start_time at the next stop\n",
    "            start_time += bus_travel_times[(start_stop, start_stop-1)]\n",
    "        terminus_depart_time += headway\n",
    "    \n",
    "    bus_trips.append(trip_dict)"
   ]
  },
  {
   "cell_type": "code",
   "execution_count": 8,
   "metadata": {},
   "outputs": [],
   "source": [
    "# Drone depots\n",
    "# [Depot ID | depot_x (km) | depot_y (km)]\n",
    "# depot_array = np.array([[0, 1.1, 3.6]])\n",
    "depot_array = np.array([[0, 2, 2]])\n",
    "\n",
    "depot_df = pd.DataFrame(columns=['ID', 'depot_x', 'depot_y'],\n",
    "                         data=depot_array)\n",
    "num_depots = len(depot_df)"
   ]
  },
  {
   "cell_type": "code",
   "execution_count": 9,
   "metadata": {},
   "outputs": [],
   "source": [
    "# Drone fleet size\n",
    "num_drones = 2"
   ]
  },
  {
   "cell_type": "code",
   "execution_count": 10,
   "metadata": {},
   "outputs": [],
   "source": [
    "(nodes_list, num_depots_repl, depots_orig_list, depots_orig_list_concat, depots_dest_list, depots_dest_list_concat, \n",
    "            pickup_list, delivery_list, bus_stop_list) = create_all_nodes(num_depots, num_drones, num_tasks, num_stops)\n",
    "num_nodes = len(nodes_list)"
   ]
  },
  {
   "cell_type": "code",
   "execution_count": 11,
   "metadata": {},
   "outputs": [],
   "source": [
    "arcs = create_all_arcs(num_depots_repl, bus_stop_list, pickup_list, delivery_list, \n",
    "                    depots_dest_list_concat, num_tasks, bus_travel_times)\n",
    "                    "
   ]
  },
  {
   "cell_type": "code",
   "execution_count": 12,
   "metadata": {},
   "outputs": [],
   "source": [
    "nodes_coords_dict = get_node_coords(depot_df, task_df, stop_df, num_drones, bus_stop_list)\n",
    "dist_drone_arcs, dist_drone_dict = calc_drone_arc_dist(num_nodes, big_M, nodes_coords_dict)"
   ]
  },
  {
   "cell_type": "code",
   "execution_count": 13,
   "metadata": {},
   "outputs": [],
   "source": [
    "time_bus_arcs = calc_time_bus_arcs(num_nodes, big_M, bus_travel_times, num_tasks, bus_stop_list)"
   ]
  },
  {
   "cell_type": "code",
   "execution_count": 36,
   "metadata": {},
   "outputs": [],
   "source": [
    "weights = {\n",
    "    'drone_dist': 1.0,\n",
    "    'bus_time': 1.0,\n",
    "    'wait_time': 0.0\n",
    "}\n",
    "\n",
    "parcel_arcs = create_parcel_arcs_weighted(\n",
    "    pickup_list, \n",
    "    delivery_list, \n",
    "    bus_stop_list, \n",
    "    dist_drone_arcs, \n",
    "    time_bus_arcs, \n",
    "    weights, \n",
    "    max_top_stations=3\n",
    ")"
   ]
  },
  {
   "cell_type": "code",
   "execution_count": 37,
   "metadata": {},
   "outputs": [
    {
     "data": {
      "text/plain": [
       "([], [])"
      ]
     },
     "execution_count": 37,
     "metadata": {},
     "output_type": "execute_result"
    },
    {
     "data": {
      "image/png": "[encoded data removed]",
      "text/plain": [
       "<Figure size 640x480 with 1 Axes>"
      ]
     },
     "metadata": {},
     "output_type": "display_data"
    }
   ],
   "source": [
    "plot_all_nodes(stop_df, task_df, depot_df, nodes_coords_dict)\n",
    "for arc in parcel_arcs:\n",
    "    plt.plot([nodes_coords_dict[arc[0]][0], nodes_coords_dict[arc[1]][0]],\n",
    "             [nodes_coords_dict[arc[0]][1], nodes_coords_dict[arc[1]][1]],\n",
    "             c='b', linewidth=2\n",
    "             )\n",
    "    \n",
    "plt.xticks([])\n",
    "plt.yticks([])\n",
    "\n",
    "# plt.savefig('FIGURES/illustration_parcel_arcs.pdf')"
   ]
  },
  {
   "cell_type": "code",
   "execution_count": null,
   "metadata": {},
   "outputs": [],
   "source": []
  }
 ],
 "metadata": {
  "kernelspec": {
   "display_name": "DA",
   "language": "python",
   "name": "python3"
  },
  "language_info": {
   "codemirror_mode": {
    "name": "ipython",
    "version": 3
   },
   "file_extension": ".py",
   "mimetype": "text/x-python",
   "name": "python",
   "nbconvert_exporter": "python",
   "pygments_lexer": "ipython3",
   "version": "3.11.7"
  }
 },
 "nbformat": 4,
 "nbformat_minor": 2
}
