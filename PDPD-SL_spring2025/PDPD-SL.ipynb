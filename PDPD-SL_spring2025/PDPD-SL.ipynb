{
 "cells": [
  {
   "cell_type": "markdown",
   "metadata": {},
   "source": [
    "# PDPD-SL: Pickup and delivery with drone and scheduled lines\n",
    "\n",
    "Current assumptions:\n",
    "- drone capacity = 1; bus capacity unlimited\n",
    "- all drones are deployed; all parcels are served\n",
    "- bus runs like a conveyor belt\n",
    "- no drone battery constraints\n",
    "- all parcel orders are ready to be picked up without time window constraints\n",
    "- each parcel travels the path with the least total drone flight distance"
   ]
  },
  {
   "cell_type": "code",
   "execution_count": 1,
   "metadata": {},
   "outputs": [],
   "source": [
    "from optimization_functions import *\n",
    "\n",
    "# optimization parameters set in preprocess_functions.py\n",
    "\n",
    "import pandas as pd\n",
    "\n",
    "from matplotlib import rcParams\n",
    "rcParams['font.family'] = 'Helvetica'\n",
    "\n",
    "import pickle\n",
    "import csv"
   ]
  },
  {
   "cell_type": "markdown",
   "metadata": {},
   "source": [
    "## Variables"
   ]
  },
  {
   "cell_type": "markdown",
   "metadata": {},
   "source": [
    "#### Drones $\\mathcal{M}$, $|\\mathcal{M}| = m$\n",
    "- unlimited battery life\n",
    "- each drone serves a subtour that starts and ends at the same depot, with origin $o^{orig} \\in \\mathcal{O}_m^{orig}$, and destination $o^{dest} \\in \\mathcal{O}_m^{dest}$ arcs connecting nodes in $\\mathcal{N} \\times \\mathcal{N}$\n",
    "\n",
    "\"Since the fleet of vehicles is homogeneous and uses the same depot, and each node can only be visited once, it is not necessary to explicitly know which vehicle visits each node. As long as information is available about which arcs that are used, it is possible to build up all the vehicle itineraries anyway. This makes it possible to reduce the number of binary variables substantially.\" IDARP (Häll et al 2008)\n"
   ]
  },
  {
   "cell_type": "markdown",
   "metadata": {},
   "source": [
    "#### Nodes $\\mathcal{N} = \\mathcal{O} \\cup \\mathcal{N^p} \\cup \\mathcal{N^d} \\cup \\mathcal{T}$\n",
    "- set of replicated depots per drone (assume unlimited battery) $\\mathcal{O}$, each depot replicated $2m$ times, representing origin and destination depots for each drone\n",
    "- set of pick up nodes $\\mathcal{N^p}$\n",
    "- set of delivery nodes $\\mathcal{N^d}$, $|\\mathcal{N^p}| = |\\mathcal{N^d}| = n$\n",
    "- set of replicated bus stops $\\mathcal{T}$, $|\\mathcal{T}|= |\\mathcal{S}| \\cdot n$\n",
    "    - contains each physical stop $s \\in \\mathcal{S}$ is replicated $n$ times. $T^s_i$ is the replicated stop of physical stop $s$ related to parcel $i$. \n",
    "    - assume bus high frequency and high capacity like conveyor belt]\n",
    "- set of arcs $\\mathcal{A}$. $A_{ij}=1$ if an arc can exist between two nodes. ie. 0 means that an arc cannot go from depot to drop off, or drop off to pick up of the same task\n",
    "\n",
    "\n",
    "\n",
    "Some intuition:\n",
    "- Each drone enters and exits a node maximum once; if enter=1, then exit=1.\n",
    "- If a parcel traverses an arc, the arc should also be traversed by a bus or a drone."
   ]
  },
  {
   "cell_type": "markdown",
   "metadata": {},
   "source": [
    "#### Parcel paths $\\mathcal{P}$\n",
    "- $n$ paths: one path for each ($\\mathcal{N}^p_i, \\mathcal{N}^d_i$) pair\n",
    "- each path $\\mathcal{P}_i$ starts at the parcel's origin $\\mathcal{N}^p_i$, and ends at the parcel's destination $\\mathcal{N}^d_i$; possible path configurations:\n",
    "    - (i) drone direct flight: arc ($\\mathcal{N}^p_i, \\mathcal{N}^d_i$)\n",
    "    - (ii) drone ($\\mathcal{N}^p_i, \\mathcal{T}^s_i$), bus ($\\mathcal{T}^s_i$, ......)\n",
    "\n",
    "\n",
    "- all paths are connected by drone flights ($\\mathcal{O}, \\mathcal{N}^p_i$)\n",
    "\n",
    "Bus unlimited capacity, so drone can bring parcel at any time."
   ]
  },
  {
   "cell_type": "markdown",
   "metadata": {},
   "source": [
    "#### Parcel paths $\\mathcal{P}$\n",
    "- $n$ paths: one path for each ($\\mathcal{N}^p_i, \\mathcal{N}^d_i$) pair\n",
    "- each path $\\mathcal{P}_i$ starts at the parcel's origin $\\mathcal{N}^p_i$, and ends at the parcel's destination $\\mathcal{N}^d_i$; possible path configurations:\n",
    "    - (i) drone direct flight: arc ($\\mathcal{N}^p_i, \\mathcal{N}^d_i$)\n",
    "    - (ii) drone ($\\mathcal{N}^p_i, \\mathcal{T}^s_i$), bus ($\\mathcal{T}^s_i$, ......)\n",
    "\n",
    "\n",
    "- all paths are connected by drone flights ($\\mathcal{O}, \\mathcal{N}^p_i$)\n",
    "\n",
    "Bus unlimited capacity, so drone can bring parcel at any time."
   ]
  },
  {
   "cell_type": "markdown",
   "metadata": {},
   "source": [
    "#### Physical bus stops $\\mathcal{S}$, bus lines $\\mathcal{L}= \\{L_1\\}$ one line for now\n",
    "\n",
    "Set of physical bus stops nearest (denoted by *) to each pick up node $p$: $\\mathcal{S^{p*}}$, where $|\\mathcal{S^{p*}}| = n$;\n",
    "\n",
    "Set of physical bus stops nearest to each delivery node: $\\mathcal{S^{d*}}$, where $|\\mathcal{S^{d*}}| = n$;\n",
    "\n",
    "To create arcs in $\\mathcal{N} \\times \\mathcal{N}$\n",
    "\n",
    "- Set of replicated bus stops nearest to each pick up node: $\\mathcal{T^{p*}}$, where $|\\mathcal{T^{p*}}| = n$, ex. $\\mathcal{T^{p*}} = \\{T_{i=0}^{s_0}, T_{i=1}^{s_0}, T_{i=2}^{s_1}, T_{i=3}^{s_3} \\}$\n",
    "\n",
    "- Set of replicated bus stops nearest to each pick up node: $\\mathcal{T^{d*}}$, where $|\\mathcal{T^{d*}}| = n$, ex. $\\mathcal{T^{d*}} = \\{T_{i=0}^{s_2}, T_{i=1}^{s_3}, T_{i=2}^{s_3}, T_{i=3}^{s_2} \\}$"
   ]
  },
  {
   "cell_type": "markdown",
   "metadata": {},
   "source": [
    "#### Optimal solution description \n",
    "\n",
    "First decide on a path on each parcel, then optimize\n",
    "\n",
    "- Drone subtours indicating node [depot, parcel, bus stop] visit sequence (based on what type of nodes a drone arc connects, one can infer drone status, occupancy, previous/next node)\n",
    "\n",
    "- Times when each node is visited; although the paths already contain sequence, we also need a timetable, since \n",
    "    - although the travel times can be determined afterwards, it is usually necessary to compute wait times at bus stops\n",
    "\n"
   ]
  },
  {
   "cell_type": "markdown",
   "metadata": {},
   "source": [
    "## Data and model"
   ]
  },
  {
   "cell_type": "markdown",
   "metadata": {},
   "source": [
    "#### Step 1: data"
   ]
  },
  {
   "cell_type": "markdown",
   "metadata": {},
   "source": [
    "##### Tasks"
   ]
  },
  {
   "cell_type": "code",
   "execution_count": 2,
   "metadata": {},
   "outputs": [],
   "source": [
    "# Parcel pickup (N^p) and delivery (N^d)\n",
    "# [Parcel ID | time (minutes) | pickup_x (km) | pickup_y | delivery_x | delivery_y | immediate: False=0, True=1]\n",
    "\n",
    "# Option 1: toy network for testing\n",
    "# task_array = np.array([[0, 1, 1, 3.7, 3, 2.5,  0], \n",
    "#                        [1, 3, 1, 1, 5, 3.7, 0], \n",
    "#                        [2, 10, 2, 1, 5.2, 3.5, 0],\n",
    "#                        [3, 14, 4.2, 1, 3.2, 0.5, 0],\n",
    "#                        [4, 20, 5, 3, 5.5, 3.5, 0]])\n",
    "\n",
    "# task_array = np.array([[0, 1, 1, 3.7, 3, 2.5,  0], \n",
    "#                        [1, 3, 1, 1, 5, 3.7, 0]])\n",
    "\n",
    "# Option 2: a larger network\n",
    "num_tasks = 49\n",
    "with open('DATA_PDPD-SL/' + str(num_tasks) + 'tasks', 'rb') as f:\n",
    "    task_array = pickle.load(f)\n",
    "\n",
    "# take a subset of tasks to test\n",
    "task_array = task_array[:10]\n"
   ]
  },
  {
   "cell_type": "code",
   "execution_count": 3,
   "metadata": {},
   "outputs": [],
   "source": [
    "task_df = pd.DataFrame(columns=['ID', 'time', 'pickup_x', 'pickup_y', 'delivery_x', 'delivery_y', 'immediate'],\n",
    "                       data=task_array)\n",
    "num_tasks = len(task_df)"
   ]
  },
  {
   "cell_type": "markdown",
   "metadata": {},
   "source": [
    "##### Bus stops"
   ]
  },
  {
   "cell_type": "code",
   "execution_count": 4,
   "metadata": {},
   "outputs": [],
   "source": [
    "# Bus stops, line(s), timetable\n",
    "# [Stop ID | line | stop_x (km) | stop_y (km)]\n",
    "\n",
    "# Option 1: toy network for testing\n",
    "# stop_array = np.array([[0, 0, 1, 2.6],\n",
    "#                        [1, 0, 2, 2.6],\n",
    "#                        [2, 0, 3, 2.6],\n",
    "#                        [3, 0, 4, 2.6]])\n",
    "\n",
    "# # Bus travel times between adjacent stops = 2 minutes per 1 km. Below calculates automatically\n",
    "# bus_travel_times = {(0, 1): 2,\n",
    "#                     (1, 2): 2,\n",
    "#                     (2, 3): 2,\n",
    "#                     (3, 2): 2,\n",
    "#                     (2, 1): 2,\n",
    "#                     (1, 0): 2\n",
    "#                     }\n",
    "\n",
    "# # Option 2: a larger network\n",
    "with open('DATA_PDPD-SL/1busline', 'rb') as f:\n",
    "    stop_array = pickle.load(f)\n",
    "\n",
    "# take a subset of bus stops to test\n",
    "# stop_array = stop_array[:2]\n",
    "\n",
    "stop_df = pd.DataFrame(columns=['ID', 'line', 'stop_x', 'stop_y'],\n",
    "                       data=stop_array)\n",
    "\n",
    "num_stops = len(stop_df)"
   ]
  },
  {
   "cell_type": "code",
   "execution_count": 5,
   "metadata": {},
   "outputs": [
    {
     "data": {
      "text/html": [
       "<div>\n",
       "<style scoped>\n",
       "    .dataframe tbody tr th:only-of-type {\n",
       "        vertical-align: middle;\n",
       "    }\n",
       "\n",
       "    .dataframe tbody tr th {\n",
       "        vertical-align: top;\n",
       "    }\n",
       "\n",
       "    .dataframe thead th {\n",
       "        text-align: right;\n",
       "    }\n",
       "</style>\n",
       "<table border=\"1\" class=\"dataframe\">\n",
       "  <thead>\n",
       "    <tr style=\"text-align: right;\">\n",
       "      <th></th>\n",
       "      <th>ID</th>\n",
       "      <th>line</th>\n",
       "      <th>stop_x</th>\n",
       "      <th>stop_y</th>\n",
       "    </tr>\n",
       "  </thead>\n",
       "  <tbody>\n",
       "    <tr>\n",
       "      <th>0</th>\n",
       "      <td>0.0</td>\n",
       "      <td>0.0</td>\n",
       "      <td>3.0</td>\n",
       "      <td>2.0</td>\n",
       "    </tr>\n",
       "    <tr>\n",
       "      <th>1</th>\n",
       "      <td>1.0</td>\n",
       "      <td>0.0</td>\n",
       "      <td>3.0</td>\n",
       "      <td>3.0</td>\n",
       "    </tr>\n",
       "    <tr>\n",
       "      <th>2</th>\n",
       "      <td>2.0</td>\n",
       "      <td>0.0</td>\n",
       "      <td>3.0</td>\n",
       "      <td>4.0</td>\n",
       "    </tr>\n",
       "    <tr>\n",
       "      <th>3</th>\n",
       "      <td>3.0</td>\n",
       "      <td>0.0</td>\n",
       "      <td>3.0</td>\n",
       "      <td>5.0</td>\n",
       "    </tr>\n",
       "    <tr>\n",
       "      <th>4</th>\n",
       "      <td>4.0</td>\n",
       "      <td>0.0</td>\n",
       "      <td>3.0</td>\n",
       "      <td>6.0</td>\n",
       "    </tr>\n",
       "    <tr>\n",
       "      <th>5</th>\n",
       "      <td>5.0</td>\n",
       "      <td>0.0</td>\n",
       "      <td>3.0</td>\n",
       "      <td>7.0</td>\n",
       "    </tr>\n",
       "    <tr>\n",
       "      <th>6</th>\n",
       "      <td>6.0</td>\n",
       "      <td>0.0</td>\n",
       "      <td>3.0</td>\n",
       "      <td>7.0</td>\n",
       "    </tr>\n",
       "    <tr>\n",
       "      <th>7</th>\n",
       "      <td>7.0</td>\n",
       "      <td>0.0</td>\n",
       "      <td>4.0</td>\n",
       "      <td>7.0</td>\n",
       "    </tr>\n",
       "    <tr>\n",
       "      <th>8</th>\n",
       "      <td>8.0</td>\n",
       "      <td>0.0</td>\n",
       "      <td>5.0</td>\n",
       "      <td>7.0</td>\n",
       "    </tr>\n",
       "    <tr>\n",
       "      <th>9</th>\n",
       "      <td>9.0</td>\n",
       "      <td>0.0</td>\n",
       "      <td>6.0</td>\n",
       "      <td>7.0</td>\n",
       "    </tr>\n",
       "    <tr>\n",
       "      <th>10</th>\n",
       "      <td>10.0</td>\n",
       "      <td>0.0</td>\n",
       "      <td>7.0</td>\n",
       "      <td>7.0</td>\n",
       "    </tr>\n",
       "  </tbody>\n",
       "</table>\n",
       "</div>"
      ],
      "text/plain": [
       "      ID  line  stop_x  stop_y\n",
       "0    0.0   0.0     3.0     2.0\n",
       "1    1.0   0.0     3.0     3.0\n",
       "2    2.0   0.0     3.0     4.0\n",
       "3    3.0   0.0     3.0     5.0\n",
       "4    4.0   0.0     3.0     6.0\n",
       "5    5.0   0.0     3.0     7.0\n",
       "6    6.0   0.0     3.0     7.0\n",
       "7    7.0   0.0     4.0     7.0\n",
       "8    8.0   0.0     5.0     7.0\n",
       "9    9.0   0.0     6.0     7.0\n",
       "10  10.0   0.0     7.0     7.0"
      ]
     },
     "execution_count": 5,
     "metadata": {},
     "output_type": "execute_result"
    }
   ],
   "source": [
    "stop_df"
   ]
  },
  {
   "cell_type": "code",
   "execution_count": 6,
   "metadata": {},
   "outputs": [],
   "source": [
    "bus_travel_times = calc_bus_travel_times(num_stops, stop_df, v_bus)"
   ]
  },
  {
   "cell_type": "code",
   "execution_count": 7,
   "metadata": {},
   "outputs": [],
   "source": [
    "bus_trips = []\n",
    "num_bus_trips = 10 # create one bus trip at a time, alternating terminus departures\n",
    "terminus_depart_time = 0\n",
    "headway = 3 # minutes, taken as the duration of a complete trip in one direction\n",
    "\n",
    "for trip in range(num_bus_trips):\n",
    "    trip_dict = {'ID': trip}\n",
    "    direction = 0 if trip%2==0 else 1\n",
    "    \n",
    "    if direction==0:\n",
    "        start_time = terminus_depart_time\n",
    "        # iterate through stops from left to right\n",
    "        for start_stop in range(num_stops-1):\n",
    "            trip_dict[(start_stop, start_stop+1)] = start_time\n",
    "            # start_time at the next stop\n",
    "            start_time += bus_travel_times[(start_stop, start_stop+1)]\n",
    "\n",
    "    else: # direction==1\n",
    "        start_time = terminus_depart_time\n",
    "        # iterate through stops from right to left\n",
    "        for start_stop in range(num_stops-1, 0, -1):\n",
    "            trip_dict[(start_stop, start_stop-1)] = start_time\n",
    "\n",
    "            # start_time at the next stop\n",
    "            start_time += bus_travel_times[(start_stop, start_stop-1)]\n",
    "        terminus_depart_time += headway\n",
    "    \n",
    "    bus_trips.append(trip_dict)"
   ]
  },
  {
   "cell_type": "markdown",
   "metadata": {},
   "source": [
    "##### Depot"
   ]
  },
  {
   "cell_type": "code",
   "execution_count": 8,
   "metadata": {},
   "outputs": [],
   "source": [
    "# Drone depots\n",
    "# [Depot ID | depot_x (km) | depot_y (km)]\n",
    "# depot_array = np.array([[0, 1.1, 3.6]])\n",
    "depot_array = np.array([[0, 2, 2]])\n",
    "\n",
    "depot_df = pd.DataFrame(columns=['ID', 'depot_x', 'depot_y'],\n",
    "                         data=depot_array)\n",
    "num_depots = len(depot_df)"
   ]
  },
  {
   "cell_type": "markdown",
   "metadata": {},
   "source": [
    "##### Drone\n"
   ]
  },
  {
   "cell_type": "code",
   "execution_count": 9,
   "metadata": {},
   "outputs": [],
   "source": [
    "# Drone fleet size\n",
    "num_drones = 2"
   ]
  },
  {
   "cell_type": "markdown",
   "metadata": {},
   "source": [
    "#### Step 2: Create feasible arcs"
   ]
  },
  {
   "cell_type": "code",
   "execution_count": 10,
   "metadata": {},
   "outputs": [],
   "source": [
    "(nodes_list, num_depots_repl, depots_orig_list, depots_orig_list_concat, depots_dest_list, depots_dest_list_concat, \n",
    "            pickup_list, delivery_list, bus_stop_list) = create_all_nodes(num_depots, num_drones, num_tasks, num_stops)\n",
    "num_nodes = len(nodes_list)"
   ]
  },
  {
   "cell_type": "code",
   "execution_count": 11,
   "metadata": {},
   "outputs": [
    {
     "data": {
      "text/plain": [
       "[[22, 23, 24, 25, 26, 27, 28, 29, 30, 31],\n",
       " [32, 33, 34, 35, 36, 37, 38, 39, 40, 41],\n",
       " [42, 43, 44, 45, 46, 47, 48, 49, 50, 51],\n",
       " [52, 53, 54, 55, 56, 57, 58, 59, 60, 61],\n",
       " [62, 63, 64, 65, 66, 67, 68, 69, 70, 71],\n",
       " [72, 73, 74, 75, 76, 77, 78, 79, 80, 81],\n",
       " [82, 83, 84, 85, 86, 87, 88, 89, 90, 91],\n",
       " [92, 93, 94, 95, 96, 97, 98, 99, 100, 101],\n",
       " [102, 103, 104, 105, 106, 107, 108, 109, 110, 111],\n",
       " [112, 113, 114, 115, 116, 117, 118, 119, 120, 121],\n",
       " [122, 123, 124, 125, 126, 127, 128, 129, 130, 131]]"
      ]
     },
     "execution_count": 11,
     "metadata": {},
     "output_type": "execute_result"
    }
   ],
   "source": [
    "bus_stop_list"
   ]
  },
  {
   "cell_type": "code",
   "execution_count": 12,
   "metadata": {},
   "outputs": [],
   "source": [
    "arcs = create_all_arcs(num_depots_repl, bus_stop_list, pickup_list, delivery_list, \n",
    "                    depots_dest_list_concat, num_tasks, bus_travel_times)"
   ]
  },
  {
   "cell_type": "markdown",
   "metadata": {},
   "source": [
    "##### Compute drone arc distances for all node pairs"
   ]
  },
  {
   "cell_type": "code",
   "execution_count": 13,
   "metadata": {},
   "outputs": [],
   "source": [
    "nodes_coords_dict = get_node_coords(depot_df, task_df, stop_df, num_drones, bus_stop_list)\n",
    "dist_drone_arcs, dist_drone_dict = calc_drone_arc_dist(num_nodes, big_M, nodes_coords_dict)\n"
   ]
  },
  {
   "cell_type": "markdown",
   "metadata": {},
   "source": [
    "##### Compute bus travel times for all node pairs"
   ]
  },
  {
   "cell_type": "code",
   "execution_count": 14,
   "metadata": {},
   "outputs": [],
   "source": [
    "time_bus_arcs = calc_time_bus_arcs(num_nodes, big_M, bus_travel_times, num_tasks, bus_stop_list)"
   ]
  },
  {
   "cell_type": "markdown",
   "metadata": {},
   "source": [
    "#### Step 3: Parcel arcs: direct, all nearest bus stop, or flexible"
   ]
  },
  {
   "cell_type": "code",
   "execution_count": 18,
   "metadata": {},
   "outputs": [],
   "source": [
    "parcel_arcs = create_parcel_arcs(scenario, pickup_list, delivery_list, bus_stop_list, dist_drone_arcs, num_tasks)"
   ]
  },
  {
   "cell_type": "markdown",
   "metadata": {},
   "source": [
    "##### Plot all nodes and visualize parcel arcs"
   ]
  },
  {
   "cell_type": "code",
   "execution_count": 16,
   "metadata": {},
   "outputs": [
    {
     "data": {
      "text/plain": [
       "([], [])"
      ]
     },
     "execution_count": 16,
     "metadata": {},
     "output_type": "execute_result"
    },
    {
     "data": {
      "image/png": "[encoded data removed]",
      "text/plain": [
       "<Figure size 640x480 with 1 Axes>"
      ]
     },
     "metadata": {},
     "output_type": "display_data"
    }
   ],
   "source": [
    "plot_all_nodes(stop_df, task_df, depot_df, nodes_coords_dict)\n",
    "for arc in parcel_arcs:\n",
    "    plt.plot([nodes_coords_dict[arc[0]][0], nodes_coords_dict[arc[1]][0]],\n",
    "             [nodes_coords_dict[arc[0]][1], nodes_coords_dict[arc[1]][1]],\n",
    "             c='b', linewidth=2\n",
    "             )\n",
    "    \n",
    "plt.xticks([])\n",
    "plt.yticks([])\n",
    "\n",
    "# plt.savefig('FIGURES/illustration_parcel_arcs.pdf')"
   ]
  },
  {
   "cell_type": "markdown",
   "metadata": {},
   "source": [
    "#### Step 4: Gurobi variables and constraints (reference PDPTW-SL paper and PDP paper by Dumas)"
   ]
  },
  {
   "cell_type": "code",
   "execution_count": 19,
   "metadata": {},
   "outputs": [
    {
     "name": "stdout",
     "output_type": "stream",
     "text": [
      "Set parameter Username\n",
      "Academic license - for non-commercial use only - expires 2026-03-14\n"
     ]
    }
   ],
   "source": [
    "# Gurobi model\n",
    "model = gp.Model(\"PDPD-SL\")\n",
    "(model, x_drone_arc, makespan, beta_drone, \n",
    " alpha_drone, beta_parcel, alpha_parcel, x_parcel_arc) = set_up_grb_model(model, obj, cost_drone_per_km, cost_drone_per_minute,\n",
    "                                                        parcel_arcs, arcs, num_nodes, big_M, num_drones, \n",
    "                                                        nodes_list, pickup_list, delivery_list, \n",
    "                                                        depots_orig_list, depots_orig_list_concat,\n",
    "                                                        depots_dest_list, depots_dest_list_concat,\n",
    "                                                        dist_drone_arcs, v_drone, dist_drone_dict, \n",
    "                                                        bus_travel_times, bus_stop_list, t_bus_dwell, time_bus_arcs\n",
    "                                                        )"
   ]
  },
  {
   "cell_type": "code",
   "execution_count": 18,
   "metadata": {},
   "outputs": [
    {
     "name": "stdout",
     "output_type": "stream",
     "text": [
      "Set parameter Threads to value 6\n",
      "Set parameter PoolSolutions to value 4\n",
      "Set parameter PoolSearchMode to value 2\n",
      "Set parameter MIPFocus to value 1\n",
      "Set parameter Heuristics to value 0.5\n",
      "Set parameter MIPGap to value 0.1\n",
      "Gurobi Optimizer version 10.0.3 build v10.0.3rc0 (mac64[arm])\n",
      "\n",
      "CPU model: Apple M1\n",
      "Thread count: 8 physical cores, 8 logical processors, using up to 6 threads\n",
      "\n",
      "Optimize a model with 1576 rows, 3833 columns and 11359 nonzeros\n",
      "Model fingerprint: 0xa2eb153f\n",
      "Model has 2980 general constraints\n",
      "Variable types: 537 continuous, 3296 integer (3296 binary)\n",
      "Coefficient statistics:\n",
      "  Matrix range     [1e+00, 6e+01]\n",
      "  Objective range  [2e-01, 9e+00]\n",
      "  Bounds range     [1e+00, 6e+01]\n",
      "  RHS range        [1e+00, 9e+00]\n",
      "  GenCon rhs range [2e-01, 9e+00]\n",
      "  GenCon coe range [1e+00, 1e+00]\n",
      "Presolve added 1265 rows and 0 columns\n",
      "Presolve removed 0 rows and 1940 columns\n",
      "Presolve time: 0.04s\n",
      "Presolved: 2841 rows, 1893 columns, 9973 nonzeros\n",
      "Variable types: 105 continuous, 1788 integer (1788 binary)\n",
      "\n",
      "Root relaxation: objective 4.419669e+01, 2179 iterations, 0.04 seconds (0.08 work units)\n",
      "\n",
      "    Nodes    |    Current Node    |     Objective Bounds      |     Work\n",
      " Expl Unexpl |  Obj  Depth IntInf | Incumbent    BestBd   Gap | It/Node Time\n",
      "\n",
      "     0     0   44.19669    0   48          -   44.19669      -     -    0s\n",
      "     0     0   44.60809    0   42          -   44.60809      -     -    0s\n",
      "     0     0   44.60809    0   42          -   44.60809      -     -    0s\n",
      "     0     0   44.79130    0   33          -   44.79130      -     -    0s\n",
      "     0     0   45.29853    0   37          -   45.29853      -     -    0s\n",
      "     0     0   45.40761    0   58          -   45.40761      -     -    0s\n",
      "     0     0   45.40765    0   48          -   45.40765      -     -    0s\n",
      "     0     0   45.44254    0   76          -   45.44254      -     -    0s\n",
      "     0     0   45.44315    0   76          -   45.44315      -     -    0s\n",
      "     0     0   45.44315    0   76          -   45.44315      -     -    0s\n",
      "     0     0   45.69733    0   54          -   45.69733      -     -    0s\n",
      "     0     2   46.44652    0   52          -   46.44652      -     -    0s\n",
      "H  952   720                      66.1654437   46.65900  29.5%  22.0    0s\n",
      "H  966   595                      62.7257060   46.65900  25.6%  22.2    0s\n",
      "H  967   595                      54.9897839   46.65900  15.1%  22.2    0s\n",
      "H  975   521                      54.2937904   46.70329  14.0%  22.2    0s\n",
      "H  998   339                      54.1349411   46.70329  13.7%  22.5    0s\n",
      "H 1217   342                      53.8185550   46.70329  13.2%  22.5    0s\n",
      "H 1292   289                      53.7578180   46.70329  13.1%  22.5    1s\n",
      "H 1330   259                      51.4021772   46.73125  9.09%  24.9    1s\n",
      "\n",
      "Cutting planes:\n",
      "  Learned: 2\n",
      "  Gomory: 3\n",
      "  Lift-and-project: 4\n",
      "  Implied bound: 9\n",
      "  Clique: 1\n",
      "  MIR: 3\n",
      "  Flow cover: 11\n",
      "  Zero half: 2\n",
      "  Mod-K: 1\n",
      "  RLT: 2\n",
      "  Relax-and-lift: 6\n",
      "\n",
      "Explored 1376 nodes (37749 simplex iterations) in 1.94 seconds (2.33 work units)\n",
      "Thread count was 6 (of 8 available processors)\n",
      "\n",
      "Solution count 4: 51.4022 51.4022 51.4022 51.4022 \n",
      "\n",
      "Optimal solution found (tolerance 1.00e-01)\n",
      "Best objective 5.140217720433e+01, best bound 4.673125068025e+01, gap 9.0870%\n"
     ]
    }
   ],
   "source": [
    "model.params.Threads = 6\n",
    "model.setParam('PoolSolutions', 4)  # Keep multiple solutions if found, good idea since the depot replication induces symmetry\n",
    "model.setParam(GRB.Param.PoolSearchMode, 2)\n",
    "model.setParam(\"MIPFocus\", 1)  # Prioritizes finding feasible solutions\n",
    "model.setParam(\"Heuristics\", 0.5)  # Increases heuristic effort\n",
    "model.setParam(\"MIPGap\", 0.1) # Report optimal solution if optimality gap is less than 10%\n",
    "\n",
    "# model.setParam('TimeLimit', 1200)  # Limit to 20 minutes\n",
    "\n",
    "model.optimize()"
   ]
  },
  {
   "cell_type": "code",
   "execution_count": 19,
   "metadata": {},
   "outputs": [
    {
     "name": "stdout",
     "output_type": "stream",
     "text": [
      "Model feasible\n"
     ]
    }
   ],
   "source": [
    "if model.Status == GRB.INFEASIBLE:\n",
    "    model.computeIIS()\n",
    "    model.write(\"iis.ilp\")\n",
    "else:\n",
    "    print('Model feasible')"
   ]
  },
  {
   "cell_type": "code",
   "execution_count": 20,
   "metadata": {},
   "outputs": [],
   "source": [
    "# for var in model.getVars():\n",
    "#     if var.IISLB:\n",
    "#         print(f\"Infeasible lower bound: {var.VarName}\")\n",
    "#     if var.IISUB:\n",
    "#         print(f\"Infeasible upper bound: {var.VarName}\")"
   ]
  },
  {
   "cell_type": "code",
   "execution_count": 21,
   "metadata": {},
   "outputs": [],
   "source": [
    "# for constr in model.getConstrs():\n",
    "#     if constr.IISConstr:\n",
    "#         print(f\"Infeasible constraint: {constr.ConstrName}\")"
   ]
  },
  {
   "cell_type": "code",
   "execution_count": 22,
   "metadata": {},
   "outputs": [
    {
     "name": "stdout",
     "output_type": "stream",
     "text": [
      "Number of stored solutions: 4\n"
     ]
    }
   ],
   "source": [
    "num_solutions = model.SolCount\n",
    "print(f\"Number of stored solutions: {num_solutions}\")"
   ]
  },
  {
   "cell_type": "code",
   "execution_count": 23,
   "metadata": {},
   "outputs": [
    {
     "name": "stdout",
     "output_type": "stream",
     "text": [
      "51.4022 51.4022 51.4022 51.4022 \n"
     ]
    }
   ],
   "source": [
    "# Print objective values of solutions\n",
    "for e in range(num_solutions):\n",
    "    model.setParam(GRB.Param.SolutionNumber, e)\n",
    "    print(f\"{model.PoolObjVal:g} \", end=\"\")\n",
    "    if e % 15 == 14:\n",
    "        print(\"\")\n",
    "print(\"\")\n"
   ]
  },
  {
   "cell_type": "markdown",
   "metadata": {},
   "source": [
    "##### Store optimization results"
   ]
  },
  {
   "cell_type": "code",
   "execution_count": 24,
   "metadata": {},
   "outputs": [
    {
     "name": "stdout",
     "output_type": "stream",
     "text": [
      "Drone travel distance (km): 51.4021772043255\n",
      "Makespan time (minutes): 65.0\n"
     ]
    }
   ],
   "source": [
    "# First term: Drone travel cost\n",
    "term1_value = x_drone_arc.prod(dist_drone_dict).getValue()\n",
    "\n",
    "# Second term: Makespan cost\n",
    "term2_value = makespan.X\n",
    "\n",
    "# Print results\n",
    "print(f\"Drone travel distance (km): {term1_value}\")\n",
    "print(f\"Makespan time (minutes): {term2_value}\")"
   ]
  },
  {
   "cell_type": "markdown",
   "metadata": {},
   "source": [
    "## Solution retrieval\n",
    "\n",
    "Print drone path and visit time one by one, example:\n",
    "\n",
    "- Drone ID: depot i (time) - Np_i (time) - T_i (time) - ... - ... - depot (time)\n",
    "\n",
    "    - Np_i (time) - T_i (time) - T_i (time) - Nd_i (time)\n",
    "    - Np_i (time) - Nd_i (time)\n",
    "\n",
    "- Drone ID: depot i (time) - Np_i (time) - T_i (time) - ... - ... - depot (time)\n",
    "\n",
    "    - Np_i (time) - T_i (time) - T_i (time) - Nd_i (time)\n",
    "    - Np_i (time) - Nd_i (time)\n",
    "\n",
    "Given drone ID: plot trajectory of drone on map, with pick up and delivery points, and bus stops labeled.\n",
    "\n",
    "TODO: Given task ID: plot trajectory of parcel on map, with Np, Nd, and bus stops in background. \n"
   ]
  },
  {
   "cell_type": "markdown",
   "metadata": {},
   "source": [
    "#### Sanity check\n",
    "\n",
    "Print out arcs to draw out paths for each drone"
   ]
  },
  {
   "cell_type": "code",
   "execution_count": 25,
   "metadata": {},
   "outputs": [
    {
     "name": "stdout",
     "output_type": "stream",
     "text": [
      "Drone 0: Depot 0 (0.0) -> Pickup 9 (0.589) -> Delivery 9 (1.875) -> Pickup 4 (5.377) -> Delivery 4 (6.725) -> Bus stop 5 (9.443) -> Delivery 3 (11.552) -> Pickup 6 (13.695) -> Delivery 6 (16.64) -> Pickup 5 (18.783) -> Bus stop 10 (20.573) -> Pickup 7 (26.304) -> Bus stop 10 (28.309) -> Pickup 1 (29.34) -> Bus stop 10 (30.37) -> Pickup 8 (34.743) -> Delivery 8 (35.963) -> Bus stop 1 (44.309) -> Delivery 7 (45.024) -> Bus stop 1 (46.294) -> Delivery 0 (47.022) -> Bus stop 0 (48.37) -> Delivery 1 (63.543) -> Depot 0 (65.0)\n",
      "Drone 1: Depot 0 (0.0) -> Pickup 3 (2.804) -> Bus stop 2 (3.443) -> Pickup 2 (22.733) -> Delivery 2 (23.692) -> Bus stop 0 (38.573) -> Delivery 5 (40.391) -> Pickup 0 (42.248) -> Bus stop 0 (44.294) -> Depot 0 (45.294)\n"
     ]
    },
    {
     "data": {
      "image/png": "[encoded data removed]",
      "text/plain": [
       "<Figure size 500x500 with 1 Axes>"
      ]
     },
     "metadata": {},
     "output_type": "display_data"
    }
   ],
   "source": [
    "plt.figure(figsize=(5, 5))\n",
    "plot_all_nodes(stop_df, task_df, depot_df, nodes_coords_dict)\n",
    "        \n",
    "# for (i, j) in x_drone_arc.keys():\n",
    "#     if x_drone_arc[i, j].X>=0.5:\n",
    "#         plt.plot([nodes_coords_dict[i][0], nodes_coords_dict[j][0]],\n",
    "#                  [nodes_coords_dict[i][1], nodes_coords_dict[j][1]], \n",
    "#                  c='b', alpha=0.5)\n",
    "        \n",
    "drone_arcs_solution = store_drone_arcs_soln(depots_orig_list, num_drones, x_drone_arc, \n",
    "                          depots_orig_list_concat, depots_dest_list_concat,\n",
    "                          pickup_list, delivery_list, bus_stop_list, beta_drone, alpha_drone)\n",
    "\n",
    "plot_drone_arcs_soln(drone_arcs_solution, num_drones, nodes_coords_dict, dist_drone_arcs)\n",
    "\n",
    "# plt.savefig('FIGURES/PDPDSL_soln.pdf')"
   ]
  },
  {
   "cell_type": "markdown",
   "metadata": {},
   "source": [
    "#### Parcel status visusalization"
   ]
  },
  {
   "cell_type": "code",
   "execution_count": 26,
   "metadata": {},
   "outputs": [],
   "source": [
    "# Store each parcel path as a dictionary since the number of entries isn't always the same\n",
    "\n",
    "all_parcels = []\n",
    "for task_ID in range(num_tasks):\n",
    "    parcel_dict = {}\n",
    "    parcel_dict['task_ID'] = task_ID\n",
    "    \n",
    "    # Time the parcel is picked up by drone from the origin\n",
    "    parcel_dict['beta_P'] = round(beta_parcel[pickup_list[task_ID]].Xn, 3)\n",
    "    pickup_node = pickup_list[task_ID]\n",
    "\n",
    "    # Time the parcel is dropped off by drone at the destination\n",
    "    parcel_dict['alpha_D'] = round(alpha_parcel[delivery_list[task_ID]].Xn, 3)\n",
    "    delivery_node = delivery_list[task_ID]\n",
    "\n",
    "    # Departure times from bus stops, if applicable, list of times\n",
    "    parcel_dict['bus_stop_departures'] = []\n",
    "    key_i_list = [key[0] for key in x_parcel_arc.keys()]\n",
    "    key_j_list = [key[1] for key in x_parcel_arc.keys()]\n",
    "\n",
    "    next_i = key_j_list[np.where(np.array(key_i_list)==pickup_node)[0][0]]\n",
    "    while next_i != delivery_node:\n",
    "        parcel_dict['bus_stop_departures'].append(round(beta_parcel[next_i].Xn, 3))\n",
    "        next_i = key_j_list[np.where(np.array(key_i_list)==next_i)[0][0]]\n",
    "\n",
    "    all_parcels.append(parcel_dict)"
   ]
  },
  {
   "cell_type": "code",
   "execution_count": 27,
   "metadata": {},
   "outputs": [
    {
     "data": {
      "text/plain": [
       "([<matplotlib.axis.YTick at 0x121b4fed0>,\n",
       "  <matplotlib.axis.YTick at 0x121b29010>,\n",
       "  <matplotlib.axis.YTick at 0x120c95250>,\n",
       "  <matplotlib.axis.YTick at 0x121c10150>,\n",
       "  <matplotlib.axis.YTick at 0x121c124d0>,\n",
       "  <matplotlib.axis.YTick at 0x121c18650>,\n",
       "  <matplotlib.axis.YTick at 0x121c1a750>,\n",
       "  <matplotlib.axis.YTick at 0x121c1c8d0>,\n",
       "  <matplotlib.axis.YTick at 0x121c13d10>,\n",
       "  <matplotlib.axis.YTick at 0x121c1f390>],\n",
       " [Text(0, 0, '0'),\n",
       "  Text(0, 1, '1'),\n",
       "  Text(0, 2, '2'),\n",
       "  Text(0, 3, '3'),\n",
       "  Text(0, 4, '4'),\n",
       "  Text(0, 5, '5'),\n",
       "  Text(0, 6, '6'),\n",
       "  Text(0, 7, '7'),\n",
       "  Text(0, 8, '8'),\n",
       "  Text(0, 9, '9')])"
      ]
     },
     "execution_count": 27,
     "metadata": {},
     "output_type": "execute_result"
    },
    {
     "data": {
      "image/png": "[encoded data removed]",
      "text/plain": [
       "<Figure size 640x480 with 1 Axes>"
      ]
     },
     "metadata": {},
     "output_type": "display_data"
    }
   ],
   "source": [
    "plt.plot(figsize=(1.5, 1.5))\n",
    "plt.xlabel('Time (minutes)')\n",
    "plt.ylabel('Parcel ID')\n",
    "end_time = max([parcel['alpha_D'] for parcel in all_parcels]) + 10\n",
    "\n",
    "linewidth = 2\n",
    "\n",
    "\n",
    "for i, parcel in enumerate(all_parcels):\n",
    "    # grey before parcel is picked up\n",
    "    plt.plot([0, parcel['beta_P']], [i, i], marker=None, c='grey', linewidth=linewidth, alpha=0.1)\n",
    "    if parcel['bus_stop_departures']==[]:\n",
    "        # direct drone flight\n",
    "        plt.plot([parcel['beta_P'], parcel['alpha_D']], [i, i], marker=None, c='k', linewidth=linewidth, markersize=5)\n",
    "    else:\n",
    "        \n",
    "        plt.plot([parcel['beta_P'], parcel['bus_stop_departures'][0]], [i, i], \n",
    "                 marker=None, c='k', linewidth=linewidth, markersize=5)        \n",
    "\n",
    "        plt.plot([parcel['bus_stop_departures'][-1], parcel['alpha_D']], [i, i], \n",
    "                 marker=None, c='k', linewidth=linewidth, markersize=5)\n",
    "\n",
    "\n",
    "        plt.plot(parcel['bus_stop_departures'], [i] * len(parcel['bus_stop_departures']), \n",
    "                 marker='s', c='k', linewidth=linewidth, markersize=5)\n",
    "\n",
    "    # Green after parcel is delivered\n",
    "    plt.plot([parcel['alpha_D'], end_time], [i, i], marker=None, c='grey', linewidth=linewidth, alpha=0.1)\n",
    "    \n",
    "    # plot pick up and delivery nodes\n",
    "    plt.scatter(parcel['beta_P'], i, marker='^', c='k', s=30)\n",
    "    plt.scatter(parcel['alpha_D'], i, marker='o', c='k', s=30)\n",
    "\n",
    "\n",
    "# legend\n",
    "# triange: pick up node; square: bus stop; circle: delivery node\n",
    "# plt.legend()\n",
    "\n",
    "plt.xlim(0, end_time)\n",
    "plt.ylim(-0.5, num_tasks)\n",
    "# plt.xticks(np.arange(0, end_time, 2))\n",
    "plt.yticks(np.arange(0, num_tasks, 1))\n",
    "\n",
    "# plt.savefig('FIGURES/parcel_times.pdf')"
   ]
  }
 ],
 "metadata": {
  "kernelspec": {
   "display_name": "DA",
   "language": "python",
   "name": "python3"
  },
  "language_info": {
   "codemirror_mode": {
    "name": "ipython",
    "version": 3
   },
   "file_extension": ".py",
   "mimetype": "text/x-python",
   "name": "python",
   "nbconvert_exporter": "python",
   "pygments_lexer": "ipython3",
   "version": "3.11.7"
  }
 },
 "nbformat": 4,
 "nbformat_minor": 2
}
